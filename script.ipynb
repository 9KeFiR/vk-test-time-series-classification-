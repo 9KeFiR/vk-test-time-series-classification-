{
  "nbformat": 4,
  "nbformat_minor": 0,
  "metadata": {
    "colab": {
      "provenance": []
    },
    "kernelspec": {
      "name": "python3",
      "display_name": "Python 3"
    },
    "language_info": {
      "name": "python"
    }
  },
  "cells": [
    {
      "cell_type": "code",
      "source": [
        "#pip install catboost"
      ],
      "metadata": {
        "id": "sM2oBITSGtgk"
      },
      "execution_count": null,
      "outputs": []
    },
    {
      "cell_type": "code",
      "source": [
        "import numpy as np\n",
        "import pandas as pd\n",
        "import pyarrow.parquet as pq\n",
        "from catboost import CatBoostClassifier"
      ],
      "metadata": {
        "id": "_ngMmYNpG44K"
      },
      "execution_count": 2,
      "outputs": []
    },
    {
      "cell_type": "code",
      "source": [
        "test_pq = pq.read_table('/content/test.parquet') #input\n",
        "test_pd = test_pq.to_pandas()"
      ],
      "metadata": {
        "id": "9m4699d9HBdb"
      },
      "execution_count": 5,
      "outputs": []
    },
    {
      "cell_type": "code",
      "source": [
        "def generate_features(df):\n",
        "    # Генерация статистических признаков из values\n",
        "    agg_features = df['values'].apply(lambda x: pd.Series({\n",
        "        'mean': np.mean(x),\n",
        "        'median': np.median(x),\n",
        "        'std': np.std(x),\n",
        "        'min': np.min(x),\n",
        "        'max': np.max(x),\n",
        "        'range': np.max(x) - np.min(x),\n",
        "        'last_value': x[-1],\n",
        "        'first_value': x[0],\n",
        "        'trend': np.polyfit(range(len(x)), x, 1)[0],\n",
        "        'first_derivative_mean': np.mean(np.gradient(x)),\n",
        "        'second_derivative_mean': np.mean(np.gradient(np.gradient(x))),\n",
        "        'autocorr_1': pd.Series(x).autocorr(lag=1),\n",
        "        'autocorr_2': pd.Series(x).autocorr(lag=2),\n",
        "        'energy': np.sum(np.power(x, 2)),\n",
        "        'skewness': pd.Series(x).skew(),\n",
        "        'kurtosis': pd.Series(x).kurtosis(),\n",
        "    }))\n",
        "\n",
        "    df['dates'] = df['dates'].apply(pd.to_datetime)\n",
        "    time_features = df['dates'].apply(lambda x: pd.Series({\n",
        "        'num_years': x.max().year - x.min().year + 1,\n",
        "        'num_months': len(np.unique(x.month)),\n",
        "    }))\n",
        "\n",
        "    features = pd.concat([agg_features, time_features], axis=1)\n",
        "\n",
        "    return features"
      ],
      "metadata": {
        "id": "wsML9W6WHHIx"
      },
      "execution_count": 6,
      "outputs": []
    },
    {
      "cell_type": "code",
      "source": [
        "test_features = generate_features(test_pd)"
      ],
      "metadata": {
        "id": "RLcjgywsHOKy"
      },
      "execution_count": null,
      "outputs": []
    },
    {
      "cell_type": "code",
      "execution_count": 9,
      "metadata": {
        "id": "pUV8UlhvEYcE"
      },
      "outputs": [],
      "source": [
        "model = CatBoostClassifier()\n",
        "\n",
        "model.load_model('catboost_model.cbm')\n",
        "\n",
        "predictions = model.predict_proba(test_features)"
      ]
    },
    {
      "cell_type": "code",
      "source": [
        "submission = pd.DataFrame({\n",
        "    'id': test_pd['id'],\n",
        "    'score': predictions[:,1]\n",
        "})\n",
        "\n",
        "submission.to_csv('submission.csv', index=False)"
      ],
      "metadata": {
        "id": "NDjJe6G9HvXh"
      },
      "execution_count": 18,
      "outputs": []
    }
  ]
}